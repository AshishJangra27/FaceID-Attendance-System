{
 "cells": [
  {
   "cell_type": "code",
   "execution_count": 1,
   "metadata": {},
   "outputs": [
    {
     "name": "stdout",
     "output_type": "stream",
     "text": [
      "Sucess!\n"
     ]
    }
   ],
   "source": [
    "import cv2 as cv\n",
    "\n",
    "face_cascade = cv.CascadeClassifier(\"helper/haarcascade_frontalface_default.xml\")\n",
    "cap = cv.VideoCapture(0)\n",
    "i=0\n",
    "\n",
    "while True:\n",
    "    \n",
    "    i = i+1\n",
    "    ret , img = cap.read()\n",
    "    img = cv.flip(img,1)\n",
    "    \n",
    "    gray = cv.cvtColor(img,cv.COLOR_BGR2GRAY)\n",
    "    faces  = face_cascade.detectMultiScale(gray,1.3,5)\n",
    "    \n",
    "    for ( x,y,w,h ) in faces:\n",
    "        \n",
    "        roi = cv.rectangle(img,(x,y),(x+w - 10,y+h - 10),(25,255,0),1)\n",
    "        cropped = img[y:y+h - 10, x:x+w - 10]\n",
    "        \n",
    "    cv.imshow('Cropped',cropped)\n",
    "    name = 'Target/Testing/'+'Rishu/'+str(i)+'.jpg'\n",
    "    \n",
    "    cv.imwrite(name,cropped)\n",
    " \n",
    "    e = cv.waitKey(30) & 0xff\n",
    "    if (e==27):\n",
    "        break\n",
    "print(\"Sucess!\")\n",
    "cap.release()\n",
    "cv.destroyAllWindows()"
   ]
  },
  {
   "cell_type": "code",
   "execution_count": null,
   "metadata": {},
   "outputs": [],
   "source": []
  },
  {
   "cell_type": "code",
   "execution_count": null,
   "metadata": {},
   "outputs": [],
   "source": []
  }
 ],
 "metadata": {
  "kernelspec": {
   "display_name": "Python 2",
   "language": "python",
   "name": "python2"
  },
  "language_info": {
   "codemirror_mode": {
    "name": "ipython",
    "version": 2
   },
   "file_extension": ".py",
   "mimetype": "text/x-python",
   "name": "python",
   "nbconvert_exporter": "python",
   "pygments_lexer": "ipython2",
   "version": "2.7.15"
  }
 },
 "nbformat": 4,
 "nbformat_minor": 2
}
