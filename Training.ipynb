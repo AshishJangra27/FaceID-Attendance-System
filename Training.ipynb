{
 "cells": [
  {
   "cell_type": "code",
   "execution_count": 2,
   "metadata": {},
   "outputs": [
    {
     "name": "stderr",
     "output_type": "stream",
     "text": [
      "Using TensorFlow backend.\n"
     ]
    }
   ],
   "source": [
    "import numpy as np\n",
    "from keras.preprocessing.image import ImageDataGenerator\n",
    "from keras.layers import Conv2D, Dense, Flatten, MaxPooling2D, Dropout\n",
    "from keras.models import Sequential, load_model\n",
    "from keras.optimizers import Adam"
   ]
  },
  {
   "cell_type": "code",
   "execution_count": 3,
   "metadata": {},
   "outputs": [
    {
     "name": "stdout",
     "output_type": "stream",
     "text": [
      "_________________________________________________________________\n",
      "Layer (type)                 Output Shape              Param #   \n",
      "=================================================================\n",
      "conv2d_1 (Conv2D)            (None, 60, 60, 32)        2432      \n",
      "_________________________________________________________________\n",
      "conv2d_2 (Conv2D)            (None, 56, 56, 32)        25632     \n",
      "_________________________________________________________________\n",
      "max_pooling2d_1 (MaxPooling2 (None, 28, 28, 32)        0         \n",
      "_________________________________________________________________\n",
      "dropout_1 (Dropout)          (None, 28, 28, 32)        0         \n",
      "_________________________________________________________________\n",
      "conv2d_3 (Conv2D)            (None, 26, 26, 48)        13872     \n",
      "_________________________________________________________________\n",
      "conv2d_4 (Conv2D)            (None, 24, 24, 48)        20784     \n",
      "_________________________________________________________________\n",
      "max_pooling2d_2 (MaxPooling2 (None, 12, 12, 48)        0         \n",
      "_________________________________________________________________\n",
      "dropout_2 (Dropout)          (None, 12, 12, 48)        0         \n",
      "_________________________________________________________________\n",
      "conv2d_5 (Conv2D)            (None, 10, 10, 64)        27712     \n",
      "_________________________________________________________________\n",
      "conv2d_6 (Conv2D)            (None, 8, 8, 64)          36928     \n",
      "_________________________________________________________________\n",
      "max_pooling2d_3 (MaxPooling2 (None, 4, 4, 64)          0         \n",
      "_________________________________________________________________\n",
      "dropout_3 (Dropout)          (None, 4, 4, 64)          0         \n",
      "_________________________________________________________________\n",
      "flatten_1 (Flatten)          (None, 1024)              0         \n",
      "_________________________________________________________________\n",
      "dense_1 (Dense)              (None, 500)               512500    \n",
      "_________________________________________________________________\n",
      "dropout_4 (Dropout)          (None, 500)               0         \n",
      "_________________________________________________________________\n",
      "dense_2 (Dense)              (None, 4)                 2004      \n",
      "=================================================================\n",
      "Total params: 641,864\n",
      "Trainable params: 641,864\n",
      "Non-trainable params: 0\n",
      "_________________________________________________________________\n"
     ]
    }
   ],
   "source": [
    "model = Sequential()\n",
    "  \n",
    "model.add(Conv2D(32, (5,5), input_shape=(64,64,3), activation = 'relu'))\n",
    "model.add(Conv2D(32, (5,5), activation = 'relu'))\n",
    "model.add(MaxPooling2D(pool_size = (2,2)))  \n",
    "model.add(Dropout(0.5))\n",
    "\n",
    "model.add(Conv2D(48, (3,3), activation = 'relu'))\n",
    "model.add(Conv2D(48, (3,3), activation = 'relu'))\n",
    "model.add(MaxPooling2D(pool_size = (2,2)))\n",
    "model.add(Dropout(0.5))\n",
    "\n",
    "model.add(Conv2D(64, (3,3), activation = 'relu'))\n",
    "model.add(Conv2D(64, (3,3), activation = 'relu'))\n",
    "model.add(MaxPooling2D(pool_size = (2,2)))\n",
    "model.add(Dropout(0.5))\n",
    "\n",
    "model.add(Flatten())\n",
    "\n",
    "model.add(Dense(500, activation = 'relu'))\n",
    "model.add(Dropout(0.5))\n",
    "\n",
    "model.add(Dense(4, activation = 'softmax'))\n",
    "\n",
    "model.compile(Adam(lr = 0.001), loss='categorical_crossentropy', metrics = ['accuracy'] )\n",
    "model.summary()"
   ]
  },
  {
   "cell_type": "code",
   "execution_count": 11,
   "metadata": {},
   "outputs": [],
   "source": [
    "model.compile(optimizer = Adam(lr = 0.0001), loss = 'categorical_crossentropy', metrics = ['accuracy'] )"
   ]
  },
  {
   "cell_type": "code",
   "execution_count": 12,
   "metadata": {},
   "outputs": [],
   "source": [
    "train_datagen = ImageDataGenerator( rescale=1./255,)\n",
    "\n",
    "test_datagen  = ImageDataGenerator( rescale=1./255)"
   ]
  },
  {
   "cell_type": "code",
   "execution_count": 15,
   "metadata": {},
   "outputs": [
    {
     "name": "stdout",
     "output_type": "stream",
     "text": [
      "Found 160 images belonging to 4 classes.\n",
      "Found 740 images belonging to 4 classes.\n"
     ]
    }
   ],
   "source": [
    "train_set = train_datagen.flow_from_directory('Target/Testing', \n",
    "                                              target_size=(64, 64),\n",
    "                                              classes = ['Ashish','Guri','Ria','Vikrant'],\n",
    "                                              batch_size = 10, \n",
    "                                              class_mode='categorical') \n",
    "\n",
    "test_set = test_datagen.flow_from_directory('Target/Training',\n",
    "                                            target_size=(64, 64),\n",
    "                                            classes = ['Ashish','Guri','Ria','Vikrant'],\n",
    "                                            batch_size = 1) "
   ]
  },
  {
   "cell_type": "code",
   "execution_count": 16,
   "metadata": {},
   "outputs": [
    {
     "name": "stdout",
     "output_type": "stream",
     "text": [
      "Epoch 1/20\n",
      "240/240 [==============================] - 77s 320ms/step - loss: 0.3513 - acc: 0.8633\n",
      "Epoch 2/20\n",
      "240/240 [==============================] - 73s 305ms/step - loss: 0.0026 - acc: 1.0000\n",
      "Epoch 3/20\n",
      "240/240 [==============================] - 78s 324ms/step - loss: 0.0335 - acc: 0.9921\n",
      "Epoch 4/20\n",
      "240/240 [==============================] - 97s 404ms/step - loss: 7.8311e-04 - acc: 1.0000\n",
      "Epoch 5/20\n",
      "240/240 [==============================] - 84s 351ms/step - loss: 3.7452e-04 - acc: 1.0000\n",
      "Epoch 6/20\n",
      "240/240 [==============================] - 75s 311ms/step - loss: 1.6147e-04 - acc: 1.0000\n",
      "Epoch 7/20\n",
      "240/240 [==============================] - 92s 382ms/step - loss: 1.1761e-04 - acc: 1.0000\n",
      "Epoch 8/20\n",
      "240/240 [==============================] - 85s 356ms/step - loss: 6.5094e-05 - acc: 1.0000\n",
      "Epoch 9/20\n",
      "240/240 [==============================] - 84s 350ms/step - loss: 9.8060e-04 - acc: 0.9996\n",
      "Epoch 10/20\n",
      "240/240 [==============================] - 75s 311ms/step - loss: 0.0016 - acc: 0.9996\n",
      "Epoch 11/20\n",
      "240/240 [==============================] - 77s 323ms/step - loss: 1.3511e-04 - acc: 1.0000\n",
      "Epoch 12/20\n",
      "240/240 [==============================] - 84s 351ms/step - loss: 4.3786e-04 - acc: 1.0000\n",
      "Epoch 13/20\n",
      "240/240 [==============================] - 75s 314ms/step - loss: 1.2998e-04 - acc: 1.0000\n",
      "Epoch 14/20\n",
      "240/240 [==============================] - 75s 311ms/step - loss: 7.6396e-05 - acc: 1.0000\n",
      "Epoch 15/20\n",
      "240/240 [==============================] - 71s 295ms/step - loss: 2.5190e-05 - acc: 1.0000\n",
      "Epoch 16/20\n",
      "240/240 [==============================] - 69s 288ms/step - loss: 1.5688e-05 - acc: 1.0000\n",
      "Epoch 17/20\n",
      "240/240 [==============================] - 70s 291ms/step - loss: 1.6193e-05 - acc: 1.0000\n",
      "Epoch 18/20\n",
      "240/240 [==============================] - 69s 289ms/step - loss: 1.2958e-05 - acc: 1.0000\n",
      "Epoch 19/20\n",
      "240/240 [==============================] - 69s 289ms/step - loss: 8.7862e-06 - acc: 1.0000\n",
      "Epoch 20/20\n",
      "240/240 [==============================] - 70s 290ms/step - loss: 2.3260e-05 - acc: 1.0000\n"
     ]
    }
   ],
   "source": [
    "history = model.fit_generator( train_set, \n",
    "                              steps_per_epoch = 240, \n",
    "                              epochs = 20)\n",
    "#                              validation_data = test_set, \n",
    "#                              validation_steps = 1)"
   ]
  },
  {
   "cell_type": "code",
   "execution_count": 17,
   "metadata": {},
   "outputs": [
    {
     "data": {
      "text/plain": [
       "[0.5888791903420247, 0.93]"
      ]
     },
     "execution_count": 17,
     "metadata": {},
     "output_type": "execute_result"
    }
   ],
   "source": [
    "model.evaluate_generator(test_set, steps = 1000)"
   ]
  },
  {
   "cell_type": "code",
   "execution_count": 18,
   "metadata": {},
   "outputs": [],
   "source": [
    "model.save('weights.h5')"
   ]
  },
  {
   "cell_type": "code",
   "execution_count": null,
   "metadata": {},
   "outputs": [],
   "source": []
  }
 ],
 "metadata": {
  "kernelspec": {
   "display_name": "Python 2",
   "language": "python",
   "name": "python2"
  },
  "language_info": {
   "codemirror_mode": {
    "name": "ipython",
    "version": 2
   },
   "file_extension": ".py",
   "mimetype": "text/x-python",
   "name": "python",
   "nbconvert_exporter": "python",
   "pygments_lexer": "ipython2",
   "version": "2.7.15"
  }
 },
 "nbformat": 4,
 "nbformat_minor": 2
}
